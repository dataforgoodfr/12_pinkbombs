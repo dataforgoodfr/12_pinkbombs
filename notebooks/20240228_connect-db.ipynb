{
 "cells": [
  {
   "cell_type": "markdown",
   "metadata": {},
   "source": [
    "# Opérations sur une base de données distante avec pandas et SQLAlchemy\n",
    "\n",
    "Le but de ce notebook et d'expérimenter la manipulation de données sur une base distante (hébergée par Scaleway en mode serverless) à l'aide de `sqlachemy` (pour gérer la connexion) et `pandas` pour faire les opérations.\n",
    "\n",
    "Les étapes prévisionnelles : \n",
    "\n",
    "- se connecter à la base de données avec SQLAlchemy\n",
    "- créer une table et écrire dedans avec pandas\n",
    "- lire le contenu de la table"
   ]
  },
  {
   "cell_type": "markdown",
   "metadata": {},
   "source": [
    "## Pré-requis et constantes\n",
    "\n",
    "Je commence par charger mes variables d'environnement (dans un fichier `.env` à la racine de mon répertoire). Ces variables comprennent en particulier mes identifiants, ainsi que les autres informations de connexion à la base de données. \n",
    "\n",
    "Pour cela j'ai besoin du module `dotenv`, à installer sous le nom de `python-dotenv`."
   ]
  },
  {
   "cell_type": "code",
   "execution_count": 1,
   "metadata": {},
   "outputs": [],
   "source": [
    "import os\n",
    "from pathlib import Path\n",
    "\n",
    "from dotenv import load_dotenv"
   ]
  },
  {
   "cell_type": "code",
   "execution_count": 2,
   "metadata": {},
   "outputs": [
    {
     "data": {
      "text/plain": [
       "True"
      ]
     },
     "execution_count": 2,
     "metadata": {},
     "output_type": "execute_result"
    }
   ],
   "source": [
    "load_dotenv(\"../.env\")"
   ]
  },
  {
   "cell_type": "code",
   "execution_count": 3,
   "metadata": {},
   "outputs": [],
   "source": [
    "PGUSER = os.getenv(\"PGUSER\")\n",
    "PGPASSWORD = os.getenv(\"PGPASSWORD\")\n",
    "PGHOST = os.getenv(\"PGHOST\")\n",
    "PGPORT = os.getenv(\"PGPORT\")\n",
    "PGDATABASE = os.getenv(\"PGDATABASE\")"
   ]
  },
  {
   "cell_type": "markdown",
   "metadata": {},
   "source": [
    "Je définis aussi le chemin du répertoire où je stockerai mes données :"
   ]
  },
  {
   "cell_type": "code",
   "execution_count": 4,
   "metadata": {},
   "outputs": [],
   "source": [
    "PATH_TO_DATA = Path(\"../data/\")"
   ]
  },
  {
   "cell_type": "markdown",
   "metadata": {},
   "source": [
    "## Se connecter à la base de données avec SQLAlchemy\n",
    "\n",
    "On se connecte à la BDD en utilisant un object `engine` de `sqlalchemy`, auquel on passe notre chaîne de caractères de connexion. \n",
    "\n",
    "La partie `\"postgresql+psycopg2\"` définit le dialecte SQL utilisé ainsi que le pilote SQL. `psycopg2` est déjà le pilote par défaut utilisé par `sqlalchemy`, mais je voulais faire les choses de manière explicite.\n",
    "Dans tous les cas, il faudra installer le pilote et l'ajouter dans les dépendances."
   ]
  },
  {
   "cell_type": "code",
   "execution_count": 5,
   "metadata": {},
   "outputs": [],
   "source": [
    "from sqlalchemy import create_engine"
   ]
  },
  {
   "cell_type": "code",
   "execution_count": 6,
   "metadata": {},
   "outputs": [],
   "source": [
    "engine = create_engine(\n",
    "    f\"postgresql+psycopg2://{PGUSER}:{PGPASSWORD}@{PGHOST}:{PGPORT}/{PGDATABASE}?sslmode=require&options=databaseid%3De5e14878-0ed7-4bc2-a80f-8c05ef81fac0\",\n",
    ")"
   ]
  },
  {
   "cell_type": "code",
   "execution_count": 7,
   "metadata": {},
   "outputs": [
    {
     "data": {
      "text/plain": [
       "<sqlalchemy.engine.base.Connection at 0x7f5c364007d0>"
      ]
     },
     "execution_count": 7,
     "metadata": {},
     "output_type": "execute_result"
    }
   ],
   "source": [
    "engine.connect()"
   ]
  },
  {
   "cell_type": "markdown",
   "metadata": {},
   "source": [
    "Le code ne renvoie pas d'erreur, la connexion s'est donc bien établie."
   ]
  },
  {
   "cell_type": "markdown",
   "metadata": {},
   "source": [
    "## Écrire des données avec pandas\n",
    "\n",
    "Je vais écrire les données du poids total en aquaculture par année et par pays dans la BDD. J'en profite pour faire une table avec les correspondances des noms des pays (je me contente des langues latines parce que je ne sais pas exactement comment fonctionne l'encodage des caractères chinois, arabes et russes)\n",
    "\n",
    "NOTE : Je suggère de ne pas utiliser `pandas` pour insérer des données dans la base de données en production : a priori, on ne peut pas spécifier le schéma de la table créée, donc pas de vérification des données, pas d'indexes, pas de clés étrangères. Mais pour une démo vite fait, ça passe."
   ]
  },
  {
   "cell_type": "code",
   "execution_count": 8,
   "metadata": {},
   "outputs": [],
   "source": [
    "import pandas as pd"
   ]
  },
  {
   "cell_type": "code",
   "execution_count": 9,
   "metadata": {},
   "outputs": [],
   "source": [
    "df = pd.read_excel(PATH_TO_DATA / \"atlantic_salmon-aquaculture_tonnes_live_weight_by_country_by_year.xlsx\")"
   ]
  },
  {
   "cell_type": "code",
   "execution_count": 10,
   "metadata": {},
   "outputs": [],
   "source": [
    "df_aquaculture = (\n",
    "    df[[\"Year\", \"ISO2 Code\", \"Tonnes - live weight\"]]\n",
    "    .rename(columns={\"Year\": \"year\", \"ISO2 Code\": \"iso2\", \"Tonnes - live weight\": \"tonnes\"})\n",
    ")"
   ]
  },
  {
   "cell_type": "code",
   "execution_count": 11,
   "metadata": {},
   "outputs": [
    {
     "data": {
      "text/html": [
       "<div>\n",
       "<style scoped>\n",
       "    .dataframe tbody tr th:only-of-type {\n",
       "        vertical-align: middle;\n",
       "    }\n",
       "\n",
       "    .dataframe tbody tr th {\n",
       "        vertical-align: top;\n",
       "    }\n",
       "\n",
       "    .dataframe thead th {\n",
       "        text-align: right;\n",
       "    }\n",
       "</style>\n",
       "<table border=\"1\" class=\"dataframe\">\n",
       "  <thead>\n",
       "    <tr style=\"text-align: right;\">\n",
       "      <th></th>\n",
       "      <th>year</th>\n",
       "      <th>iso2</th>\n",
       "      <th>tonnes</th>\n",
       "    </tr>\n",
       "  </thead>\n",
       "  <tbody>\n",
       "    <tr>\n",
       "      <th>0</th>\n",
       "      <td>1950</td>\n",
       "      <td>GB</td>\n",
       "      <td>0.000</td>\n",
       "    </tr>\n",
       "    <tr>\n",
       "      <th>1</th>\n",
       "      <td>1950</td>\n",
       "      <td>SE</td>\n",
       "      <td>0.000</td>\n",
       "    </tr>\n",
       "    <tr>\n",
       "      <th>2</th>\n",
       "      <td>1950</td>\n",
       "      <td>NO</td>\n",
       "      <td>0.000</td>\n",
       "    </tr>\n",
       "    <tr>\n",
       "      <th>3</th>\n",
       "      <td>1950</td>\n",
       "      <td>KP</td>\n",
       "      <td>0.000</td>\n",
       "    </tr>\n",
       "    <tr>\n",
       "      <th>4</th>\n",
       "      <td>1950</td>\n",
       "      <td>IE</td>\n",
       "      <td>0.000</td>\n",
       "    </tr>\n",
       "    <tr>\n",
       "      <th>...</th>\n",
       "      <td>...</td>\n",
       "      <td>...</td>\n",
       "      <td>...</td>\n",
       "    </tr>\n",
       "    <tr>\n",
       "      <th>895</th>\n",
       "      <td>2021</td>\n",
       "      <td>FO</td>\n",
       "      <td>115650.000</td>\n",
       "    </tr>\n",
       "    <tr>\n",
       "      <th>896</th>\n",
       "      <td>2021</td>\n",
       "      <td>DK</td>\n",
       "      <td>1668.000</td>\n",
       "    </tr>\n",
       "    <tr>\n",
       "      <th>897</th>\n",
       "      <td>2021</td>\n",
       "      <td>CL</td>\n",
       "      <td>725280.000</td>\n",
       "    </tr>\n",
       "    <tr>\n",
       "      <th>898</th>\n",
       "      <td>2021</td>\n",
       "      <td>CA</td>\n",
       "      <td>120186.000</td>\n",
       "    </tr>\n",
       "    <tr>\n",
       "      <th>899</th>\n",
       "      <td>2021</td>\n",
       "      <td>AU</td>\n",
       "      <td>84045.234</td>\n",
       "    </tr>\n",
       "  </tbody>\n",
       "</table>\n",
       "<p>900 rows × 3 columns</p>\n",
       "</div>"
      ],
      "text/plain": [
       "     year iso2      tonnes\n",
       "0    1950   GB       0.000\n",
       "1    1950   SE       0.000\n",
       "2    1950   NO       0.000\n",
       "3    1950   KP       0.000\n",
       "4    1950   IE       0.000\n",
       "..    ...  ...         ...\n",
       "895  2021   FO  115650.000\n",
       "896  2021   DK    1668.000\n",
       "897  2021   CL  725280.000\n",
       "898  2021   CA  120186.000\n",
       "899  2021   AU   84045.234\n",
       "\n",
       "[900 rows x 3 columns]"
      ]
     },
     "execution_count": 11,
     "metadata": {},
     "output_type": "execute_result"
    }
   ],
   "source": [
    "df_aquaculture"
   ]
  },
  {
   "cell_type": "markdown",
   "metadata": {},
   "source": [
    "Pour insérer les données en tant que table dans notre base, on utilise la méthode `.to_sql()` de notre dataframe. Note : si la table existe déjà, on peut spécifier si on souhaite y concaténer les données, remplacer les données actuelles, ou renvoyer une erreur. Ici, j'ai choisi de remplacer les données actuelles."
   ]
  },
  {
   "cell_type": "code",
   "execution_count": 20,
   "metadata": {},
   "outputs": [
    {
     "data": {
      "text/plain": [
       "900"
      ]
     },
     "execution_count": 20,
     "metadata": {},
     "output_type": "execute_result"
    }
   ],
   "source": [
    "df_aquaculture.to_sql(\n",
    "    name=\"aquaculture_weight_by_country\",\n",
    "    con=engine,\n",
    "    if_exists=\"replace\",\n",
    "    index=False)"
   ]
  },
  {
   "cell_type": "markdown",
   "metadata": {},
   "source": [
    "Pour l'exemple, on fait la même chose avec les noms de pays :"
   ]
  },
  {
   "cell_type": "code",
   "execution_count": 21,
   "metadata": {},
   "outputs": [],
   "source": [
    "df_country_names = (\n",
    "    df[[\n",
    "        'ISO2 Code',\n",
    "        'Country Name En',\n",
    "        'Country Name Es',\n",
    "        'Country Name Fr',\n",
    "    ]]\n",
    "    .rename(columns={\n",
    "        'ISO2 Code': 'iso2',\n",
    "        'Country Name En': 'english',\n",
    "        'Country Name Es': 'spanish',\n",
    "        'Country Name Fr': \"french\",\n",
    "    })\n",
    "    .drop_duplicates()\n",
    "    .reset_index(drop=True)\n",
    ")"
   ]
  },
  {
   "cell_type": "code",
   "execution_count": 22,
   "metadata": {},
   "outputs": [
    {
     "data": {
      "text/html": [
       "<div>\n",
       "<style scoped>\n",
       "    .dataframe tbody tr th:only-of-type {\n",
       "        vertical-align: middle;\n",
       "    }\n",
       "\n",
       "    .dataframe tbody tr th {\n",
       "        vertical-align: top;\n",
       "    }\n",
       "\n",
       "    .dataframe thead th {\n",
       "        text-align: right;\n",
       "    }\n",
       "</style>\n",
       "<table border=\"1\" class=\"dataframe\">\n",
       "  <thead>\n",
       "    <tr style=\"text-align: right;\">\n",
       "      <th></th>\n",
       "      <th>iso2</th>\n",
       "      <th>english</th>\n",
       "      <th>spanish</th>\n",
       "      <th>french</th>\n",
       "    </tr>\n",
       "  </thead>\n",
       "  <tbody>\n",
       "    <tr>\n",
       "      <th>0</th>\n",
       "      <td>GB</td>\n",
       "      <td>United Kingdom</td>\n",
       "      <td>Reino Unido</td>\n",
       "      <td>Royaume-Uni</td>\n",
       "    </tr>\n",
       "    <tr>\n",
       "      <th>1</th>\n",
       "      <td>SE</td>\n",
       "      <td>Sweden</td>\n",
       "      <td>Suecia</td>\n",
       "      <td>Suède</td>\n",
       "    </tr>\n",
       "    <tr>\n",
       "      <th>2</th>\n",
       "      <td>NO</td>\n",
       "      <td>Norway</td>\n",
       "      <td>Noruega</td>\n",
       "      <td>Norvège</td>\n",
       "    </tr>\n",
       "    <tr>\n",
       "      <th>3</th>\n",
       "      <td>KP</td>\n",
       "      <td>Korea, Dem. People's Rep</td>\n",
       "      <td>Rep. Pop. Dem. de Corea</td>\n",
       "      <td>Rép. pop. dém. de Corée</td>\n",
       "    </tr>\n",
       "    <tr>\n",
       "      <th>4</th>\n",
       "      <td>IE</td>\n",
       "      <td>Ireland</td>\n",
       "      <td>Irlanda</td>\n",
       "      <td>Irlande</td>\n",
       "    </tr>\n",
       "    <tr>\n",
       "      <th>5</th>\n",
       "      <td>FI</td>\n",
       "      <td>Finland</td>\n",
       "      <td>Finlandia</td>\n",
       "      <td>Finlande</td>\n",
       "    </tr>\n",
       "    <tr>\n",
       "      <th>6</th>\n",
       "      <td>CA</td>\n",
       "      <td>Canada</td>\n",
       "      <td>Canadá</td>\n",
       "      <td>Canada</td>\n",
       "    </tr>\n",
       "    <tr>\n",
       "      <th>7</th>\n",
       "      <td>IS</td>\n",
       "      <td>Iceland</td>\n",
       "      <td>Islandia</td>\n",
       "      <td>Islande</td>\n",
       "    </tr>\n",
       "    <tr>\n",
       "      <th>8</th>\n",
       "      <td>CL</td>\n",
       "      <td>Chile</td>\n",
       "      <td>Chile</td>\n",
       "      <td>Chili</td>\n",
       "    </tr>\n",
       "    <tr>\n",
       "      <th>9</th>\n",
       "      <td>FO</td>\n",
       "      <td>Faroe Islands</td>\n",
       "      <td>Islas Feroe</td>\n",
       "      <td>Îles Féroé</td>\n",
       "    </tr>\n",
       "    <tr>\n",
       "      <th>10</th>\n",
       "      <td>TR</td>\n",
       "      <td>Türkiye</td>\n",
       "      <td>Türkiye</td>\n",
       "      <td>Türkiye</td>\n",
       "    </tr>\n",
       "    <tr>\n",
       "      <th>11</th>\n",
       "      <td>ES</td>\n",
       "      <td>Spain</td>\n",
       "      <td>España</td>\n",
       "      <td>Espagne</td>\n",
       "    </tr>\n",
       "    <tr>\n",
       "      <th>12</th>\n",
       "      <td>US</td>\n",
       "      <td>United States of America</td>\n",
       "      <td>Estados Unidos deAmérica</td>\n",
       "      <td>États-Unis d'Amérique</td>\n",
       "    </tr>\n",
       "    <tr>\n",
       "      <th>13</th>\n",
       "      <td>AU</td>\n",
       "      <td>Australia</td>\n",
       "      <td>Australia</td>\n",
       "      <td>Australie</td>\n",
       "    </tr>\n",
       "    <tr>\n",
       "      <th>14</th>\n",
       "      <td>GR</td>\n",
       "      <td>Greece</td>\n",
       "      <td>Grecia</td>\n",
       "      <td>Grèce</td>\n",
       "    </tr>\n",
       "    <tr>\n",
       "      <th>15</th>\n",
       "      <td>PT</td>\n",
       "      <td>Portugal</td>\n",
       "      <td>Portugal</td>\n",
       "      <td>Portugal</td>\n",
       "    </tr>\n",
       "    <tr>\n",
       "      <th>16</th>\n",
       "      <td>FR</td>\n",
       "      <td>France</td>\n",
       "      <td>Francia</td>\n",
       "      <td>France</td>\n",
       "    </tr>\n",
       "    <tr>\n",
       "      <th>17</th>\n",
       "      <td>RU</td>\n",
       "      <td>Russian Federation</td>\n",
       "      <td>Federación de Rusia</td>\n",
       "      <td>Fédération de Russie</td>\n",
       "    </tr>\n",
       "    <tr>\n",
       "      <th>18</th>\n",
       "      <td>DK</td>\n",
       "      <td>Denmark</td>\n",
       "      <td>Dinamarca</td>\n",
       "      <td>Danemark</td>\n",
       "    </tr>\n",
       "    <tr>\n",
       "      <th>19</th>\n",
       "      <td>BG</td>\n",
       "      <td>Bulgaria</td>\n",
       "      <td>Bulgaria</td>\n",
       "      <td>Bulgarie</td>\n",
       "    </tr>\n",
       "    <tr>\n",
       "      <th>20</th>\n",
       "      <td>CH</td>\n",
       "      <td>Switzerland</td>\n",
       "      <td>Suiza</td>\n",
       "      <td>Suisse</td>\n",
       "    </tr>\n",
       "    <tr>\n",
       "      <th>21</th>\n",
       "      <td>AE</td>\n",
       "      <td>United Arab Emirates</td>\n",
       "      <td>Emiratos Árabes Unidos</td>\n",
       "      <td>Émirats arabes unis</td>\n",
       "    </tr>\n",
       "  </tbody>\n",
       "</table>\n",
       "</div>"
      ],
      "text/plain": [
       "   iso2                   english                   spanish  \\\n",
       "0    GB            United Kingdom               Reino Unido   \n",
       "1    SE                    Sweden                    Suecia   \n",
       "2    NO                    Norway                   Noruega   \n",
       "3    KP  Korea, Dem. People's Rep   Rep. Pop. Dem. de Corea   \n",
       "4    IE                   Ireland                   Irlanda   \n",
       "5    FI                   Finland                 Finlandia   \n",
       "6    CA                    Canada                    Canadá   \n",
       "7    IS                   Iceland                  Islandia   \n",
       "8    CL                     Chile                     Chile   \n",
       "9    FO             Faroe Islands               Islas Feroe   \n",
       "10   TR                   Türkiye                   Türkiye   \n",
       "11   ES                     Spain                    España   \n",
       "12   US  United States of America  Estados Unidos deAmérica   \n",
       "13   AU                 Australia                 Australia   \n",
       "14   GR                    Greece                    Grecia   \n",
       "15   PT                  Portugal                  Portugal   \n",
       "16   FR                    France                   Francia   \n",
       "17   RU        Russian Federation       Federación de Rusia   \n",
       "18   DK                   Denmark                 Dinamarca   \n",
       "19   BG                  Bulgaria                  Bulgaria   \n",
       "20   CH               Switzerland                     Suiza   \n",
       "21   AE      United Arab Emirates    Emiratos Árabes Unidos   \n",
       "\n",
       "                     french  \n",
       "0               Royaume-Uni  \n",
       "1                     Suède  \n",
       "2                   Norvège  \n",
       "3   Rép. pop. dém. de Corée  \n",
       "4                   Irlande  \n",
       "5                  Finlande  \n",
       "6                    Canada  \n",
       "7                   Islande  \n",
       "8                     Chili  \n",
       "9                Îles Féroé  \n",
       "10                  Türkiye  \n",
       "11                  Espagne  \n",
       "12    États-Unis d'Amérique  \n",
       "13                Australie  \n",
       "14                    Grèce  \n",
       "15                 Portugal  \n",
       "16                   France  \n",
       "17     Fédération de Russie  \n",
       "18                 Danemark  \n",
       "19                 Bulgarie  \n",
       "20                   Suisse  \n",
       "21      Émirats arabes unis  "
      ]
     },
     "execution_count": 22,
     "metadata": {},
     "output_type": "execute_result"
    }
   ],
   "source": [
    "df_country_names"
   ]
  },
  {
   "cell_type": "code",
   "execution_count": 23,
   "metadata": {},
   "outputs": [
    {
     "data": {
      "text/plain": [
       "22"
      ]
     },
     "execution_count": 23,
     "metadata": {},
     "output_type": "execute_result"
    }
   ],
   "source": [
    "df_country_names.to_sql(\n",
    "    name='country_names',\n",
    "    con=engine,\n",
    "    if_exists='replace',\n",
    "    index=False\n",
    ")"
   ]
  },
  {
   "cell_type": "markdown",
   "metadata": {},
   "source": [
    "## Récupérer les données avec pandas\n",
    "\n",
    "On va récupérer les données qu'on a écrites dans la base avec pandas. La méthode `.read_sql()` permet de spécifier une requête SQL a exécuter, ou le nom d'une table à lire. Démonstration."
   ]
  },
  {
   "cell_type": "code",
   "execution_count": 24,
   "metadata": {},
   "outputs": [],
   "source": [
    "df_aqua_1 = pd.read_sql(\n",
    "    sql='aquaculture_weight_by_country',\n",
    "    con=engine\n",
    ")\n",
    "df_aqua_2 = pd.read_sql(\n",
    "    sql=\"SELECT * FROM aquaculture_weight_by_country\",\n",
    "    con=engine\n",
    ")"
   ]
  },
  {
   "cell_type": "code",
   "execution_count": 28,
   "metadata": {},
   "outputs": [
    {
     "data": {
      "text/plain": [
       "True"
      ]
     },
     "execution_count": 28,
     "metadata": {},
     "output_type": "execute_result"
    }
   ],
   "source": [
    "df_aqua_1.equals(df_aqua_2)"
   ]
  },
  {
   "cell_type": "code",
   "execution_count": null,
   "metadata": {},
   "outputs": [],
   "source": []
  }
 ],
 "metadata": {
  "kernelspec": {
   "display_name": "pinkbombs",
   "language": "python",
   "name": "python3"
  },
  "language_info": {
   "codemirror_mode": {
    "name": "ipython",
    "version": 3
   },
   "file_extension": ".py",
   "mimetype": "text/x-python",
   "name": "python",
   "nbconvert_exporter": "python",
   "pygments_lexer": "ipython3",
   "version": "3.12.2"
  }
 },
 "nbformat": 4,
 "nbformat_minor": 2
}
